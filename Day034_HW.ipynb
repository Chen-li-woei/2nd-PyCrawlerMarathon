{
 "cells": [
  {
   "cell_type": "markdown",
   "metadata": {
    "colab_type": "text",
    "id": "I8CoX4R7VoCd"
   },
   "source": [
    "# 反爬：代理伺服器/IP\n",
    "\n",
    "* 了解「IP 黑/白名單」的反爬蟲機制\n",
    "* 「IP 黑/白名單」反爬蟲的因應策略"
   ]
  },
  {
   "cell_type": "markdown",
   "metadata": {
    "colab_type": "text",
    "id": "n-3DZ_r5VoCe"
   },
   "source": [
    "## 作業目標\n",
    "\n",
    "* 目前程式中的 proxy_ips 是手動輸入的，請根據 https://free-proxy-list.net/ 寫一個可自動化抓取可用 Proxy 的 proxy_ips。\n",
    "\n",
    "\n"
   ]
  },
  {
   "cell_type": "code",
   "execution_count": 10,
   "metadata": {
    "colab": {},
    "colab_type": "code",
    "id": "iny-9heBVoCf"
   },
   "outputs": [
    {
     "name": "stdout",
     "output_type": "stream",
     "text": [
      "['109.75.47.248:53422', '195.9.188.78:53281', '170.82.231.26:56805', '118.175.240.205:49799', '198.50.152.64:23500', '187.111.160.8:42579', '194.181.82.190:35447', '36.66.98.6:53281', '216.218.15.48:34377', '193.178.50.49:3128', '41.75.123.49:41263', '159.224.37.181:35306', '188.120.232.181:8118', '118.175.207.205:61293', '27.116.51.115:8080', '202.166.220.150:32324', '80.76.40.227:3128', '200.25.254.135:56897', '140.227.175.225:1000', '103.113.69.17:33694', '155.93.108.170:34997', '62.205.169.74:53281', '109.232.106.236:35423', '195.230.115.115:8080', '118.174.232.106:50491', '175.41.44.36:52581', '62.118.131.240:3128', '175.106.17.62:33337', '160.202.40.20:55655', '169.239.45.37:8080']\n"
     ]
    }
   ],
   "source": [
    "import requests\n",
    "from bs4 import BeautifulSoup\n",
    "import random\n",
    "\n",
    "proxy_ips = []\n",
    "res = requests.get('https://free-proxy-list.net/')\n",
    "# soup = BeautifulSoup(res.text, 'html.parser')\n",
    "# print(soup.text)\n",
    "\n",
    "# html = browser.page_source\n",
    "soup = BeautifulSoup(res.text, 'lxml')\n",
    "ip_list = soup.find(\"tbody\").find_all('td')\n",
    "\n",
    "for a in range(30):\n",
    "    b = ip_list[0+a*8].text + \":\" + ip_list[1+a*8].text\n",
    "    proxy_ips.append(b)\n",
    "print(proxy_ips)\n"
   ]
  },
  {
   "cell_type": "code",
   "execution_count": 11,
   "metadata": {
    "colab": {},
    "colab_type": "code",
    "id": "75dIsHjiVoCi"
   },
   "outputs": [
    {
     "name": "stdout",
     "output_type": "stream",
     "text": [
      "Use 175.41.44.36:52581\n",
      "Fail\n",
      "Use 118.174.232.106:50491\n",
      "Fail\n",
      "Use 200.25.254.135:56897\n",
      "Fail\n",
      "Use 41.75.123.49:41263\n",
      "Fail\n",
      "Use 198.50.152.64:23500\n",
      "Fail\n",
      "Use 216.218.15.48:34377\n",
      "Fail\n",
      "Use 140.227.175.225:1000\n",
      "Fail\n",
      "Use 200.25.254.135:56897\n",
      "Fail\n",
      "Use 109.232.106.236:35423\n",
      "Fail\n",
      "Use 193.178.50.49:3128\n",
      "Fail\n"
     ]
    }
   ],
   "source": [
    "for i in range(10):\n",
    "    ip = random.choice(proxy_ips)\n",
    "    print('Use', ip)\n",
    "    try:\n",
    "        resp = requests.get('http://ip.filefab.com/index.php',\n",
    "                        proxies={'http': ip, 'https': ip}, timeout=10)\n",
    "        soup = BeautifulSoup(resp.text, 'html5lib')\n",
    "        print(soup.find('h1', id='ipd').text.strip())\n",
    "    except:\n",
    "        print('Fail')"
   ]
  },
  {
   "cell_type": "code",
   "execution_count": null,
   "metadata": {},
   "outputs": [],
   "source": []
  }
 ],
 "metadata": {
  "colab": {
   "name": "homework.ipynb",
   "provenance": []
  },
  "kernelspec": {
   "display_name": "Python 3",
   "language": "python",
   "name": "python3"
  },
  "language_info": {
   "codemirror_mode": {
    "name": "ipython",
    "version": 3
   },
   "file_extension": ".py",
   "mimetype": "text/x-python",
   "name": "python",
   "nbconvert_exporter": "python",
   "pygments_lexer": "ipython3",
   "version": "3.7.6"
  }
 },
 "nbformat": 4,
 "nbformat_minor": 1
}
