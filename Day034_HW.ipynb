{
 "cells": [
  {
   "cell_type": "markdown",
   "metadata": {
    "colab_type": "text",
    "id": "I8CoX4R7VoCd"
   },
   "source": [
    "# 反爬：代理伺服器/IP\n",
    "\n",
    "* 了解「IP 黑/白名單」的反爬蟲機制\n",
    "* 「IP 黑/白名單」反爬蟲的因應策略"
   ]
  },
  {
   "cell_type": "markdown",
   "metadata": {
    "colab_type": "text",
    "id": "n-3DZ_r5VoCe"
   },
   "source": [
    "## 作業目標\n",
    "\n",
    "* 目前程式中的 proxy_ips 是手動輸入的，請根據 https://free-proxy-list.net/ 寫一個可自動化抓取可用 Proxy 的 proxy_ips。\n",
    "\n",
    "\n"
   ]
  },
  {
   "cell_type": "code",
   "execution_count": 8,
   "metadata": {
    "colab": {},
    "colab_type": "code",
    "id": "iny-9heBVoCf"
   },
   "outputs": [
    {
     "name": "stdout",
     "output_type": "stream",
     "text": [
      "['198.58.10.162:8080', '90.183.101.238:35542', '201.64.22.50:8081', '51.158.119.88:8811', '200.199.114.226:33932', '203.202.245.62:80', '168.232.167.52:8080', '45.76.9.18:3128', '185.205.209.198:80', '118.174.196.130:8080', '191.232.233.45:3128', '103.221.254.2:47361', '188.240.111.69:8080', '66.97.42.99:3128', '45.238.252.75:3128', '5.58.88.175:8080', '41.190.33.162:8080', '103.104.119.193:3128', '170.81.140.126:8080', '134.0.63.134:8000', '142.165.167.117:53281', '186.226.171.94:54480', '186.46.120.230:59282', '125.162.206.162:8080', '187.86.137.141:58628', '131.161.68.29:33716', '51.158.180.179:8811', '187.60.161.75:8081', '91.187.117.230:8087', '168.194.205.91:8080']\n"
     ]
    }
   ],
   "source": [
    "import requests\n",
    "from bs4 import BeautifulSoup\n",
    "import random\n",
    "\n",
    "proxy_ips = []\n",
    "res = requests.get('https://free-proxy-list.net/')\n",
    "# soup = BeautifulSoup(res.text, 'html.parser')\n",
    "# print(soup.text)\n",
    "\n",
    "# html = browser.page_source\n",
    "soup = BeautifulSoup(res.text, 'lxml')\n",
    "ip_list = soup.find(\"tbody\").find_all('td')\n",
    "\n",
    "for a in range(30):\n",
    "    b = ip_list[0+a*8].text + \":\" + ip_list[1+a*8].text\n",
    "    proxy_ips.append(b)\n",
    "print(proxy_ips)\n"
   ]
  },
  {
   "cell_type": "code",
   "execution_count": 9,
   "metadata": {
    "colab": {},
    "colab_type": "code",
    "id": "75dIsHjiVoCi"
   },
   "outputs": [
    {
     "name": "stdout",
     "output_type": "stream",
     "text": [
      "Use 186.46.120.230:59282\n",
      "Fail\n",
      "Use 41.190.33.162:8080\n",
      "Fail\n",
      "Use 45.238.252.75:3128\n",
      "Fail\n",
      "Use 51.158.180.179:8811\n",
      "Fail\n",
      "Use 168.232.167.52:8080\n",
      "Fail\n",
      "Use 91.187.117.230:8087\n",
      "Fail\n",
      "Use 186.226.171.94:54480\n",
      "Fail\n",
      "Use 131.161.68.29:33716\n",
      "Fail\n",
      "Use 198.58.10.162:8080\n",
      "Fail\n",
      "Use 66.97.42.99:3128\n",
      "Fail\n"
     ]
    }
   ],
   "source": [
    "for i in range(10):\n",
    "    ip = random.choice(proxy_ips)\n",
    "    print('Use', ip)\n",
    "    try:\n",
    "        resp = requests.get('http://ip.filefab.com/index.php',\n",
    "                        proxies={'http': ip, 'https': ip}, timeout=10)\n",
    "        soup = BeautifulSoup(resp.text, 'html5lib')\n",
    "        print(soup.find('h1', id='ipd').text.strip())\n",
    "    except:\n",
    "        print('Fail')"
   ]
  },
  {
   "cell_type": "code",
   "execution_count": null,
   "metadata": {},
   "outputs": [],
   "source": []
  }
 ],
 "metadata": {
  "colab": {
   "name": "homework.ipynb",
   "provenance": []
  },
  "kernelspec": {
   "display_name": "Python 3",
   "language": "python",
   "name": "python3"
  },
  "language_info": {
   "codemirror_mode": {
    "name": "ipython",
    "version": 3
   },
   "file_extension": ".py",
   "mimetype": "text/x-python",
   "name": "python",
   "nbconvert_exporter": "python",
   "pygments_lexer": "ipython3",
   "version": "3.7.6"
  }
 },
 "nbformat": 4,
 "nbformat_minor": 1
}
