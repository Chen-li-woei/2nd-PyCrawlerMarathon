{
 "cells": [
  {
   "cell_type": "markdown",
   "metadata": {},
   "source": [
    "# API 資料串接 - 以 Dcard API 實作範例\n",
    "\n",
    "* 了解 Dcard API 使用方式與回傳內容\n",
    "* 撰寫程式存取 API 且解析 JSON 格式資料\n"
   ]
  },
  {
   "cell_type": "markdown",
   "metadata": {},
   "source": [
    "## 作業目標\n",
    "\n",
    "* 請利用 API: https://www.dcard.tw/_api/forums/pet/posts?popular=true 回答下列問題：\n",
    "\n",
    "1. 這個 API 一次會回傳幾筆資料？每一筆資料包含哪些欄位？一次30筆，\n",
    "2. 取出每一筆資料的「標題」、「貼文時間」、「留言人數」、「按讚人數」\n",
    "3. 計算熱門/非熱門文章的「平均留言人數」與「平均按讚人數」"
   ]
  },
  {
   "cell_type": "code",
   "execution_count": 1,
   "metadata": {},
   "outputs": [
    {
     "name": "stdout",
     "output_type": "stream",
     "text": [
      "count=1  #新年快樂！研究員來拜年～感謝有你與我們一同見證好物宇宙的誕生🌏\n",
      "count=2  帶骨灰逛夜市……\n",
      "count=3  我真的被噁心到了\n",
      "count=4  我有一個護士夢\n",
      "count=5  婚禮伴奏被打槍的後續\n",
      "count=6  差了22歲的弟弟出生啦～～\n",
      "count=7  媽媽\n",
      "count=8  性騷擾經驗分享 #更\n",
      "count=9  那些侵占仔沒想到的事\n",
      "count=10  社交好累 都在營造自己有朋友的假象\n",
      "count=11  前任夜路走多遇到鬼了：）\n",
      "count=12  放過自己吧\n",
      "count=13  家中有長輩拜託請他們洗澡的時候不要鎖門\n",
      "count=14  我就想微波馬鈴薯啊！\n",
      "count=15  你這麼忙怎麼還有空___\n",
      "count=16  引發男女戰爭的事件\n",
      "count=17  臺灣人真溫暖(´；ω；｀)\n",
      "count=18  我媽喜歡把我的事情講出去\n",
      "count=19  是我害死媽媽的...\n",
      "count=20  其實很討厭被摸頭\n",
      "count=21  是我對這個世界有太多期望？\n",
      "count=22  脾氣好的人都沒底線\n",
      "count=23  這兩張照片概念也太像\n",
      "count=24  你想要的是大家同理你，現任被砲轟的快感嗎？\n",
      "count=25  請你原諒，我有病\n",
      "count=26  好想死\n",
      "這到底是什麼人生\n",
      "count=27  不知道該怎麼開口\n",
      "count=28  想好好睡一覺\n",
      "count=29  小心台北黃X碩先生\n",
      "count=30  我的全世界都在崩潰\n",
      "dict_keys(['id', 'title', 'excerpt', 'anonymousSchool', 'anonymousDepartment', 'pinned', 'forumId', 'replyId', 'createdAt', 'updatedAt', 'commentCount', 'likeCount', 'withNickname', 'tags', 'topics', 'meta', 'forumName', 'forumAlias', 'gender', 'school', 'department', 'replyTitle', 'mediaMeta', 'reactions', 'hidden', 'customStyle', 'isSuspiciousAccount', 'layout', 'pinnedType', 'pinnedPriority', 'withImages', 'withVideos', 'media', 'reportReasonText', 'postAvatar'])\n"
     ]
    }
   ],
   "source": [
    "# 1. 這個 API 一次會回傳幾筆資料？每一筆資料包含哪些欄位？\n",
    "\n",
    "import requests\n",
    "r = requests.get('https://www.dcard.tw/_api/forums/mood/posts?popular=true')\n",
    "response = r.text\n",
    "\n",
    "import json\n",
    "data = json.loads(response)\n",
    "count=1\n",
    "for d in data:\n",
    "    print('count=%d  ' %count,end=\"\")\n",
    "    print(d['title'])\n",
    "    count+=1\n",
    "\n",
    "print(data[0].keys())\n",
    "len(data[0].keys())\n"
   ]
  },
  {
   "cell_type": "code",
   "execution_count": 2,
   "metadata": {},
   "outputs": [
    {
     "data": {
      "text/plain": [
       "'\\nYour Code\\n'"
      ]
     },
     "execution_count": 2,
     "metadata": {},
     "output_type": "execute_result"
    }
   ],
   "source": [
    "# 2. 取出每一筆資料的「標題」、「貼文時間」、「留言人數」、「按讚人數」\n",
    "\n",
    "'''\n",
    "Your Code\n",
    "'''"
   ]
  },
  {
   "cell_type": "code",
   "execution_count": 3,
   "metadata": {},
   "outputs": [
    {
     "data": {
      "text/plain": [
       "'\\nYour Code\\n'"
      ]
     },
     "execution_count": 3,
     "metadata": {},
     "output_type": "execute_result"
    }
   ],
   "source": [
    "# 3. 計算熱門/非熱門文章的「平均留言人數」與「平均按讚人數」\n",
    "\n",
    "'''\n",
    "Your Code\n",
    "'''"
   ]
  },
  {
   "cell_type": "code",
   "execution_count": null,
   "metadata": {},
   "outputs": [],
   "source": []
  },
  {
   "cell_type": "code",
   "execution_count": null,
   "metadata": {},
   "outputs": [],
   "source": []
  }
 ],
 "metadata": {
  "kernelspec": {
   "display_name": "Python 3",
   "language": "python",
   "name": "python3"
  },
  "language_info": {
   "codemirror_mode": {
    "name": "ipython",
    "version": 3
   },
   "file_extension": ".py",
   "mimetype": "text/x-python",
   "name": "python",
   "nbconvert_exporter": "python",
   "pygments_lexer": "ipython3",
   "version": "3.7.6"
  }
 },
 "nbformat": 4,
 "nbformat_minor": 2
}
