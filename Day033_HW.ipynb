{
 "cells": [
  {
   "cell_type": "markdown",
   "metadata": {},
   "source": [
    "# 反爬：登入授權模擬\n",
    "\n",
    "* 了解「登入權限機制」的反爬蟲機制\n",
    "* 「登入權限機制」反爬蟲的因應策略"
   ]
  },
  {
   "cell_type": "markdown",
   "metadata": {},
   "source": [
    "## 作業目標\n",
    "\n",
    "* 找一個需要登入的網站試試看，並說明思考流程\n",
    "（如果不知道要用哪個網站的話，可以試試看 https://github.com/new 網址，未登入時會被導向登入頁）\n",
    "\n"
   ]
  },
  {
   "cell_type": "code",
   "execution_count": 19,
   "metadata": {},
   "outputs": [
    {
     "name": "stderr",
     "output_type": "stream",
     "text": [
      "C:\\ProgramData\\Anaconda3\\lib\\site-packages\\urllib3\\connectionpool.py:1004: InsecureRequestWarning: Unverified HTTPS request is being made to host 'www.eyny.com'. Adding certificate verification is strongly advised. See: https://urllib3.readthedocs.io/en/latest/advanced-usage.html#ssl-warnings\n",
      "  InsecureRequestWarning,\n"
     ]
    },
    {
     "name": "stdout",
     "output_type": "stream",
     "text": [
      " 伊莉討論區var cp_max='120'; var Show_FT='2'; var Default_isFT='1'; var StranIt_Delay='50'; var sc_relate=''; var STYLEID = '1', STATICURL = 'static/', IMGDIR = 'static/image/common', VERHASH = 'Z88', charset = 'utf-8', discuz_uid = '0', cookiepre = '612e55XbD_e8d7_', cookiedomain = '.eyny.com', cookiepath = '/', showusercard = '1', attackevasive = '0', disallowfloat = 'newthread', creditnotice = '1|積分|點,2|潛水值|米', defaultstyle = '', REPORTURL = 'd3d3LmV5bnkuY29tL2ZvcnVtLTMzNi0xLmh0bWw=', SITEURL = 'https://www.eyny.com/', JSPATH = 'data/cache/';\n",
      "繁體瀏覽工具設為首頁收藏本站用戶名UIDEmailsimulateSelect('ls_fastloginfield')自動登錄 找回密碼密碼登錄 註冊|註冊|登錄\r\n",
      "請 登錄 後使用快捷導航沒有帳號？註冊ad_format='728x90'; ad_border=0; ad_type='image'; ad_channel=2; show_ads('ads_ads_6026');快捷導航論壇BBS|群組Group|空間Space|影片|廣告|排行Ranklist|搜尋|自助升級自助升級尊貴會員尊貴會員搜索搜索本版帖子日誌相冊群組用戶\r\n",
      "initSearchmenu('scbar');\r\n",
      "請尊重及感激所有版主付出和奉獻尊貴會員無限使用任何功能認識好友、聊天，分享生活趣事\n",
      "\n",
      "\n",
      "\n",
      "「本網站已依網站內容分級規定處理」\n",
      "    警告︰此區只適合十八歲或以上人士觀看。此區內容可能令人反感；不可將此區的內容派發、傳閱、出售、出租、交給或借予年齡未滿18歲的人士或將本網站內容向該人士出示、播放或放映。\n",
      "    \n",
      "    警告︰嚴禁發表人獸交、幼齒、兒童色情、暴力、血腥、變態及令人嘔心之圖片。\n",
      "    本網站只適合十八歲或以上人仕觀看。你是否年滿十八歲並同意要進入本網站，若否請按\"離開\"\n",
      "\n",
      "\n",
      "\n",
      "\n",
      "\n",
      "      LEGAL   DISCLAIMER WARNING: THIS DISCUSSION BOARD CONTAINS MATERIAL WHICH MAY OFFEND AND   MAY NOT BE DISTRIBUTED, CIRCULATED, SOLD, HIRED, GIVEN, LENT,SHOWN, PLAYED OR   PROJECTED TO A PERSON UNDER THE AGE OF 18 YEARS.\n",
      "      You need to be at least 18 years to access this website. Please confirm below that you are at least 18 years or use the \"Cancel\" button to leave.\n",
      "\n",
      "\n",
      "\n",
      "\n",
      "\n",
      "\n",
      "\n",
      "\n",
      "\n",
      "\n",
      "\n",
      "Archiver|手機版|廣告|聯絡我們|廣告查詢|廠商合作|伊莉\r\n",
      "GMT+8, 2020-4-13 03:05 PMPowered by Discuz! © Comsenz Inc.重要聲明：本討論區是以即時上載留言的方式運作，對所有留言的真實性、完整性及立場等，不負任何法律責任。而一切留言之言論只代表留言者個人意見，並非本網站之立場，用戶不應信賴內容，並應自行判斷內容之真實性。於有關情形下，用戶應尋求專業意見(如涉及醫療、法律或投資等問題)。 由於本討論區受到「即時上載留言」運作方式所規限，故不能完全監察所有留言，若讀者發現有留言出現問題，請聯絡我們。有權刪除任何留言及拒絕任何人士上載留言，同時亦有不刪除留言的權利。切勿上傳和撰寫 侵犯版權(未經授權)、粗言穢語、誹謗、渲染色情暴力或人身攻擊的言論，敬請自律。本網站保留一切法律權利。\r\n",
      "積分 0, 距離下一級還需  積分\r\n",
      "回頂部_attachEvent(window, 'scroll', function(){showTopLink();});\n"
     ]
    }
   ],
   "source": [
    "import requests\n",
    "from bs4 import BeautifulSoup\n",
    "res = requests.get('https://www.eyny.com/forum-336-1.html', verify = False)\n",
    "soup = BeautifulSoup(res.text, 'html.parser')\n",
    "print(soup.text)"
   ]
  },
  {
   "cell_type": "code",
   "execution_count": 20,
   "metadata": {},
   "outputs": [
    {
     "name": "stderr",
     "output_type": "stream",
     "text": [
      "C:\\ProgramData\\Anaconda3\\lib\\site-packages\\urllib3\\connectionpool.py:1004: InsecureRequestWarning: Unverified HTTPS request is being made to host 'www.eyny.com'. Adding certificate verification is strongly advised. See: https://urllib3.readthedocs.io/en/latest/advanced-usage.html#ssl-warnings\n",
      "  InsecureRequestWarning,\n",
      "C:\\ProgramData\\Anaconda3\\lib\\site-packages\\urllib3\\connectionpool.py:1004: InsecureRequestWarning: Unverified HTTPS request is being made to host 'www.eyny.com'. Adding certificate verification is strongly advised. See: https://urllib3.readthedocs.io/en/latest/advanced-usage.html#ssl-warnings\n",
      "  InsecureRequestWarning,\n"
     ]
    },
    {
     "name": "stdout",
     "output_type": "stream",
     "text": [
      "成人交友 -  伊莉討論區var cp_max='120'; var Show_FT='2'; var Default_isFT='1'; var StranIt_Delay='50'; var sc_relate=''; var STYLEID = '1', STATICURL = 'static/', IMGDIR = 'static/image/common', VERHASH = 'Z88', charset = 'utf-8', discuz_uid = '0', cookiepre = '612e55XbD_e8d7_', cookiedomain = '.eyny.com', cookiepath = '/', showusercard = '1', attackevasive = '0', disallowfloat = 'newthread', creditnotice = '1|積分|點,2|潛水值|米', defaultstyle = '', REPORTURL = 'd3d3LmV5bnkuY29tL2ZvcnVtLTMzNi0xLmh0bWw=', SITEURL = 'https://www.eyny.com/', JSPATH = 'data/cache/';\n",
      "繁體瀏覽工具設為首頁收藏本站用戶名UIDEmailsimulateSelect('ls_fastloginfield')自動登錄 找回密碼密碼登錄 註冊|註冊|登錄\r\n",
      "請 登錄 後使用快捷導航沒有帳號？註冊ad_format='728x90'; ad_border=0; ad_type='image'; ad_channel=2; show_ads('ads_ads_6726');快捷導航論壇BBS|群組Group|空間Space|影片|廣告|排行Ranklist|搜尋|自助升級自助升級尊貴會員尊貴會員搜索搜索本版帖子日誌相冊群組用戶\r\n",
      "initSearchmenu('scbar');\r\n",
      "請尊重及感激所有版主付出和奉獻感激所有對伊莉作出奉獻的人認識好友、聊天，分享生活趣事伊莉討論區 › 論壇 › 成人話題› 成人交友交流國中屌照偽娘tyo123p林口女交換加拿大越南包養新北林口line色群eec666休閒聊天興趣交流學術文化旅遊交流飲食交流家庭事務PC GAMETV GAME熱門線上其他線上感情感性寵物交流家族門派動漫交流貼圖分享BL/GL音樂世界影視娛樂女性頻道潮流資訊BT下載區GB下載區下載分享短片電腦資訊數碼產品手機交流交易廣場網站事務長篇小說體育運動時事經濟上班一族博彩娛樂(4月新番)[簡]轉生成(4月新番)[繁]棒球大[繁]我們真的學不來！[BD簡]Re：從零開始的[繁]科學超電磁砲 第秀身分證要求「蘇貞昌兩性討論夜遊討論成人交友成人貼圖成人電影(上傳空間)成人小說收藏本版成人交友主題: 17952版主: sodue1027推薦主題【成人交友版務廳】(檢舉、違規解鎖、申訴、賺積分) 17958 12345678910100... 719下一頁返 回全部公告聊天討論問題showTypes('thread_types');新窗\n",
      "篩選:\n",
      "全部主題全部時間\n",
      "排序:\n",
      "最後發表|精華|推薦發帖時間|默認排序圖片模式  2020年04月04日－伊莉 討論區 和 影片區 - 部份影視區域「關閉」的公告 ...23456..93八星魔王2020-4-41380425276zxcv33441 小時前  無法登入的用戶請看一下，密碼太簡單也來看一下天晴2018-11-2601202661天晴2018-11-26 04:37 PM 尊貴會員計劃 - 無限觀看圖片、附件和下載(5P)天晴2013-1-1065天晴2017-1-18 06:07 PM  伊莉總版規天晴2011-1-102561382天晴2011-1-1 08:00 AM  成人電影3版，原創帖每日限發3個主題宇宙之王2020-4-60466宇宙之王7 天前  【成人區各版】徵求認真負責版主(當版主有額外福利)jack70017482018-8-31020194jack70017482018-8-31 10:01 AM [公告] 【成人交友版務廳】(檢舉、違規解鎖、申訴、賺積分) ...23jack70017482019-10-30381759salahao2020-1-19 07:01 AM [公告] 新春愉快~我是新任版主，請大家多多指教 ...2sodue10272019-2-11162931jaa11142019-4-15 10:03 AM [公告] 回覆『路過賺個積分』一律扣分嚴懲(檢舉他人違規可賺積分)jack70017482018-9-101788jack70017482018-9-1 09:17 PM [公告] ★【成人交友區：版規】★ (2018/9/3修訂)宇宙之王2011-2-22044657宇宙之王2011-2-22 10:13 AM      [討論] 受不了 求饒 有人願意調教我嗎 南部(2P) ...23456..14star78110822020-4-12045054zxz11837817 分鐘前[討論] 跟女友想找友伴一起度過刺激的夜晚(7P) ...234New企鵝王爺2020-4-8481408zxz11837823 分鐘前[討論] 哥哥你們好(1P)Newcsps9035762020-4-13257zxz11837825 分鐘前 [聊天] 情人節單身狗（路過可順便賺積分） ...23456..473東天大帝2020-2-14708310885東天大帝半小時前[聊天] 『高雄』  床伴 [僅作者可見]  (歡迎路過賺分~)(1P) ...23456..83bear09722020-3-1212446772苦命的小弟1 小時前[聊天] 中部茶訊分享群(1P) ...23456..12eyes19952020-2-261702858z64265271 小時前[聊天] 台中老司機已新增到第六群組~歡迎各位新手老司機入!回帖已設作者可見(2P) ...23456..21pakenham2020-2-73014911thief09262 小時前 [討論] 最近女友想嘗試4P性愛，徵情侶or單男、單女 ...23456..8a22965193a2020-3-121082486as1366333 小時前 [討論] 台中找同房互換Newabc800782020-4-1112230abcd88193 小時前 [聊天] 短髮中性妹 ...23456..16magic8007082020-3-12374421as1366333 小時前[聊天] 情侶或夫妻交流(2P) ...23456..10zzzxxxaaasss2020-2-91414385as1366333 小時前 [聊天] 台北新北男找女XX深坑仔2020-3-8250sinoco4 小時前 [聊天] 交流大奶女友生活照(大奶胖妹 肉肉妹佳) ...2max0124682020-3-28291010sinoco4 小時前 [討論] 苗栗單身男 新竹的也可以 找炮友xxxx5954892020-4-58168sinoco4 小時前 [問題] 原住民熟女 ...2345gogov88882020-1-14612947979054 小時前全部主題投票活動全部時間一天兩天一周一個月三個月默認排序發帖時間回復/查看查看最後發表熱門 17958 12345678910100... 719下一頁返 回document.onkeyup = function(e){keyPageScroll(e, 0, 'D8OV2WF0', 'forum.php?mod=forumdisplay&fid=336&filter=&orderby=lastpost&', 1);}new lazyload();Archiver|手機版|廣告|聯絡我們|廣告查詢|廠商合作|伊莉\r\n",
      "GMT+8, 2020-4-13 03:06 PMPowered by Discuz! © Comsenz Inc.重要聲明：本討論區是以即時上載留言的方式運作，對所有留言的真實性、完整性及立場等，不負任何法律責任。而一切留言之言論只代表留言者個人意見，並非本網站之立場，用戶不應信賴內容，並應自行判斷內容之真實性。於有關情形下，用戶應尋求專業意見(如涉及醫療、法律或投資等問題)。 由於本討論區受到「即時上載留言」運作方式所規限，故不能完全監察所有留言，若讀者發現有留言出現問題，請聯絡我們。有權刪除任何留言及拒絕任何人士上載留言，同時亦有不刪除留言的權利。切勿上傳和撰寫 侵犯版權(未經授權)、粗言穢語、誹謗、渲染色情暴力或人身攻擊的言論，敬請自律。本網站保留一切法律權利。\r\n",
      "積分 0, 距離下一級還需  積分\r\n",
      "回頂部_attachEvent(window, 'scroll', function(){showTopLink();});\n"
     ]
    }
   ],
   "source": [
    "rs = requests.session()\n",
    "payload={\n",
    "    'agree': 'yes'\n",
    "}\n",
    "res = rs.post('https://www.eyny.com/forum-336-1.html',verify = False, data = payload)\n",
    "res = rs.get('https://www.eyny.com/forum-336-1.html',verify = False)\n",
    "soup = BeautifulSoup(res.text,'html.parser')\n",
    "print(soup.text) \n"
   ]
  },
  {
   "cell_type": "code",
   "execution_count": null,
   "metadata": {},
   "outputs": [],
   "source": []
  },
  {
   "cell_type": "code",
   "execution_count": null,
   "metadata": {},
   "outputs": [],
   "source": []
  }
 ],
 "metadata": {
  "kernelspec": {
   "display_name": "Python 3",
   "language": "python",
   "name": "python3"
  },
  "language_info": {
   "codemirror_mode": {
    "name": "ipython",
    "version": 3
   },
   "file_extension": ".py",
   "mimetype": "text/x-python",
   "name": "python",
   "nbconvert_exporter": "python",
   "pygments_lexer": "ipython3",
   "version": "3.7.6"
  }
 },
 "nbformat": 4,
 "nbformat_minor": 2
}
