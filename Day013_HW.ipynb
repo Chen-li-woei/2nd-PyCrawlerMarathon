{
 "cells": [
  {
   "cell_type": "markdown",
   "metadata": {},
   "source": [
    "# PTT 網路爬蟲實作練習\n",
    "\n",
    "\n",
    "* 能夠利用 Request + BeatifulSour 撰寫爬蟲，並存放到合適的資料結構\n"
   ]
  },
  {
   "cell_type": "markdown",
   "metadata": {},
   "source": [
    "## 作業目標\n",
    "\n",
    "根據範例 ，完成以下問題：\n",
    "\n",
    "* ① 印出最新文章的「作者」「標題」「時間」\n",
    "* ② 印出第一頁所有文章的「作者」「標題」「時間」\n"
   ]
  },
  {
   "cell_type": "markdown",
   "metadata": {},
   "source": [
    "### ① 印出最新文章的「作者」「標題」「時間」"
   ]
  },
  {
   "cell_type": "code",
   "execution_count": 7,
   "metadata": {},
   "outputs": [
    {
     "name": "stdout",
     "output_type": "stream",
     "text": [
      "[新聞] 國際奧會成員爆料　東京奧運確定延期\n",
      "作者: waiting0801 (動感光波逼逼)Tue Mar 24 08:54:41 2020\n",
      "Re: [討論] 2003～2008的活塞有多強\n",
      "作者: louise13 (IT向前衝)Tue Mar 24 09:13:14 2020\n",
      "Re: [討論] 2003～2008的活塞有多強\n",
      "作者: lwy012018 (shift man)Tue Mar 24 10:09:37 2020\n",
      "[討論] Reddit熱門-CJ跟Dame連線說:有人說我下面的毛像Jamal Murray\n",
      "作者: pneumo (超☆冒險蓋)Tue Mar 24 11:09:58 2020\n",
      "Re: [討論] 2003～2008的活塞有多強\n",
      "作者: Ashely0913 (ASHELY)Tue Mar 24 11:14:15 2020\n",
      "[花邊] O'Neal：Kobe肯定會登上2K21封面，應該\n",
      "作者: lovea (lovea)Tue Mar 24 11:30:35 2020\n",
      "[公告] 板規v6.8\n",
      "[公告] 版主上任相關事項 \n",
      "作者: qazwsx879345 (Rajon Rondo)Fri Oct 25 10:44:03 2019\n",
      "[情報] SEASON Schedule 賽程 March 19–20\n",
      "作者: Acetoxy (阿斯)Mon Mar  2 01:19:40 2020\n",
      "[公告] 第一次被退文，可在三天後刪除退文\n",
      "作者: Vedan (味丹)Mon Mar  9 11:44:26 2020\n"
     ]
    }
   ],
   "source": [
    "import requests\n",
    "from bs4 import BeautifulSoup\n",
    "\n",
    "url = 'https://www.ptt.cc/bbs/NBA/index.html'\n",
    "r = requests.get(url)\n",
    "\n",
    "soup = BeautifulSoup(r.text, \"html5lib\")\n",
    "\n",
    "for d in soup.find_all(class_=\"title\"):\n",
    "    print(d.text.replace('\\t', '').replace('\\n', ''))\n",
    "    try:\n",
    "        r = BeautifulSoup(requests.get('https://www.ptt.cc'+d.find('a')['href']).text, \"html5lib\")\n",
    "        print('作者: ' + r.find_all(class_='article-meta-value')[0].text+ r.find_all(class_='article-meta-value')[3].text)\n",
    "    except:\n",
    "        continue\n"
   ]
  },
  {
   "cell_type": "markdown",
   "metadata": {},
   "source": [
    "### ② 印出第一頁所有文章的「作者」「標題」「時間」"
   ]
  },
  {
   "cell_type": "code",
   "execution_count": 8,
   "metadata": {},
   "outputs": [
    {
     "name": "stdout",
     "output_type": "stream",
     "text": [
      "[轉錄]Lyotard 對於太陽板討論串的結論\n",
      "作者: Price (Price)Sun May 16 01:54:33 2004\n",
      "[公告] 請停止一切關於本次活動的發言\n",
      "作者: Price (Price)Mon May 24 00:43:00 2004\n",
      "[轉錄]跟之前那篇比起來 我覺得這篇也應該轉過來\n",
      "作者: Frankaze (神采風華)Tue Jun  8 01:16:45 2004\n",
      "[轉錄]再轉一篇好文來\n",
      "作者: Frankaze (神采風華)Tue Jun  8 09:02:23 2004\n",
      "[轉錄][情報] 夏洛特山貓系列\n",
      "作者: Price (Price)Thu Jun 10 00:39:35 2004\n",
      "[轉錄]Re: [心得] 真是受不了糗爺....\n",
      "作者: Price (Price)Thu Jun 10 00:51:35 2004\n",
      "[轉錄]總冠軍賽NO.2觀後感\n",
      "作者: Price (Price)Thu Jun 10 12:05:07 2004\n",
      "[心得] Rasheed Wallace\n",
      "作者: AmuroNamie (原來太嗨真的會失眠^___^)Fri Jun 11 15:06:09 2004\n",
      "掌控球賽的男人\n",
      "作者: toptree (  )Sat Jun 12 07:13:04 2004\n",
      "[閒聊] 說說2004季後賽名場面回顧\n",
      "作者: skchang (3EB板開板囉！)Sat Jun 12 13:21:49 2004\n",
      "[心得] 其實說穿了 就是活塞的防守太可怕了\n",
      "作者: shineup ()Sat Jun 12 13:12:47 2004\n",
      "Re: [閒聊] 說說2004季後賽名場面回顧\n",
      "作者: cOvi (喵~)Sat Jun 12 16:43:07 2004\n",
      "Re: [閒聊] 說說2004季後賽名場面回顧\n",
      "作者: ykshih (￼N￼Ns)Sat Jun 12 17:26:37 2004\n",
      "Re: [閒聊] 說說2004季後賽名場面回顧\n",
      "作者: Frankaze (神采風華)Sat Jun 12 18:34:46 2004\n",
      "[轉錄]Re: 總冠軍賽NO.3觀後感\n",
      "作者: Price (Price)Mon Jun 14 02:18:52 2004\n",
      "[轉錄]Re: 總冠軍賽NO.3觀後感\n",
      "作者: Frankaze (神采風華)Mon Jun 14 02:34:33 2004\n",
      "Re: [轉錄]Re: 總冠軍賽NO.3觀後感\n",
      "作者: star1 (第一次魔術表演不算成功)Mon Jun 14 07:16:30 2004\n",
      "Re: [轉錄]Re: 總冠軍賽NO.3觀後感\n",
      "作者: coldspring (笑笑)Mon Jun 14 09:24:57 2004\n",
      "Re: Kobe is frustrated...\n",
      "作者: airbear (地圖)Mon Jun 14 12:56:14 2004\n",
      "Re: [轉錄]Re: 總冠軍賽NO.3觀後感\n",
      "作者: pennykidd (andre)Mon Jun 14 22:07:01 2004\n"
     ]
    }
   ],
   "source": [
    "import requests\n",
    "from bs4 import BeautifulSoup\n",
    "\n",
    "url = 'https://www.ptt.cc/bbs/NBA/index1.html'\n",
    "r = requests.get(url)\n",
    "\n",
    "soup = BeautifulSoup(r.text, \"html5lib\")\n",
    "\n",
    "for d in soup.find_all(class_=\"title\"):\n",
    "    print(d.text.replace('\\t', '').replace('\\n', ''))\n",
    "    try:\n",
    "        r = BeautifulSoup(requests.get('https://www.ptt.cc'+d.find('a')['href']).text, \"html5lib\")\n",
    "        print('作者: ' + r.find_all(class_='article-meta-value')[0].text+ r.find_all(class_='article-meta-value')[3].text)\n",
    "    except:\n",
    "        continue\n"
   ]
  },
  {
   "cell_type": "markdown",
   "metadata": {},
   "source": [
    "### ③ 試著爬爬看其他版的文章"
   ]
  },
  {
   "cell_type": "code",
   "execution_count": 12,
   "metadata": {},
   "outputs": [
    {
     "name": "stdout",
     "output_type": "stream",
     "text": [
      "[心得] 一堆鍵盤專家看了真煩\n",
      "作者: PrettyOdd ()Tue Mar 24 14:12:33 2020\n",
      "[標的] 大盤 本膽比多\n",
      "作者: scottmay (寂寞是等沒雨)Tue Mar 24 14:18:08 2020\n",
      "Re: [請益]  有人敢抄底美股和石油嗎？\n",
      "作者: rity (禮藏24年)Tue Mar 24 14:19:52 2020\n",
      "Re: [心得] 台股到底在漲啥三小？\n",
      "作者: FBMaster (FB 大師)Tue Mar 24 14:25:21 2020\n",
      "[請益] 歷史上韭菜哪次贏過？\n",
      "作者: hesenberg (2030美食家 )Tue Mar 24 14:25:24 2020\n",
      "[心得] 空手的人何時要進場？\n",
      "作者: obrag (歐布拉)Tue Mar 24 14:25:25 2020\n",
      "[心得] 我就直言了 底部已經到了！\n",
      "作者: meichiang (美江)Tue Mar 24 14:29:09 2020\n",
      "[心得] 台股真的世界強！\n",
      "作者: davidchen329 (懶豬爵士)Tue Mar 24 14:38:33 2020\n",
      "[請益] 流動性問題\n",
      "作者: azazxz123 (歐楊)Tue Mar 24 14:51:23 2020\n",
      "[新聞] 千萬元以下房貸 降息兩碼\n",
      "作者: vertebrae ()Tue Mar 24 14:57:03 2020\n",
      "[其他] 109年03月24日 三大法人買賣金額統計表\n",
      "作者: coconing (證 ㄓㄥˋ 券 ㄑㄩㄢˋ)Tue Mar 24 14:57:45 2020\n",
      "[請益] 長榮航基本面請益\n",
      "作者: cliff83216 (Cliff)Tue Mar 24 15:05:17 2020\n",
      "[心得] 拐點到了，還是怕買不到？\n",
      "作者: InEarnest (KaYu)Tue Mar 24 15:07:42 2020\n",
      "[新聞] F-16V升級進度落後25%　空軍：2023年完\n",
      "作者: Reewalker (報告饅頭班長不夠)Tue Mar 24 15:08:59 2020\n",
      "Re: [心得] 一堆鍵盤專家看了真煩\n",
      "作者: SakuraYui (櫻花蝦)Tue Mar 24 15:15:21 2020\n",
      "Re: [心得] 台股到底在漲啥三小？\n",
      "作者: KuoJia (奉孝)Tue Mar 24 15:28:10 2020\n",
      "[新聞] 武肺衝擊、生產活動停滯！東京製鐵半年\n",
      "作者: CIA (中央情報局)Tue Mar 24 15:32:12 2020\n",
      "[心得] 還是中長空格局（不服可辯）\n",
      "作者: hesenberg (2030美食家 )Tue Mar 24 15:32:32 2020\n",
      "Re: [心得] 可以好好睡覺了\n",
      "作者: PrettyOdd ()Tue Mar 24 15:34:16 2020\n",
      "[公告] 精華區導覽Q&A\n",
      "作者: IanLi (IanLi)Sun Jan 25 23:18:20 2015\n",
      "[公告] Stock 板規V2.6             (2019/06/20)\n",
      "[公告] 關於武漢肺炎新聞規範\n",
      "作者: noldorelf (屏東周渝民)Sat Jan 25 15:02:33 2020\n",
      "[閒聊] 2020/03/24 盤中閒聊\n",
      "作者: vendan5566 (阿文)Tue Mar 24 08:30:00 2020\n"
     ]
    }
   ],
   "source": [
    "import requests\n",
    "from bs4 import BeautifulSoup\n",
    "\n",
    "url = 'https://www.ptt.cc/bbs/Stock/index.html'\n",
    "r = requests.get(url)\n",
    "\n",
    "soup = BeautifulSoup(r.text, \"html5lib\")\n",
    "\n",
    "for d in soup.find_all(class_=\"title\"):\n",
    "    print(d.text.replace('\\t', '').replace('\\n', ''))\n",
    "    try:\n",
    "        r = BeautifulSoup(requests.get('https://www.ptt.cc'+d.find('a')['href']).text, \"html5lib\")\n",
    "        # print('https://www.ptt.cc'+d.find('a')['href'])\n",
    "        print('作者: ' + r.find_all(class_='article-meta-value')[0].text+ r.find_all(class_='article-meta-value')[3].text)\n",
    "    except:\n",
    "        continue\n"
   ]
  },
  {
   "cell_type": "code",
   "execution_count": null,
   "metadata": {},
   "outputs": [],
   "source": []
  },
  {
   "cell_type": "code",
   "execution_count": null,
   "metadata": {},
   "outputs": [],
   "source": []
  }
 ],
 "metadata": {
  "kernelspec": {
   "display_name": "Python 3",
   "language": "python",
   "name": "python3"
  },
  "language_info": {
   "codemirror_mode": {
    "name": "ipython",
    "version": 3
   },
   "file_extension": ".py",
   "mimetype": "text/x-python",
   "name": "python",
   "nbconvert_exporter": "python",
   "pygments_lexer": "ipython3",
   "version": "3.7.6"
  }
 },
 "nbformat": 4,
 "nbformat_minor": 2
}
